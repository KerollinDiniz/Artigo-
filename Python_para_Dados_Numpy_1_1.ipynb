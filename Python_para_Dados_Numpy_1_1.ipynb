{
  "nbformat": 4,
  "nbformat_minor": 0,
  "metadata": {
    "colab": {
      "provenance": [],
      "include_colab_link": true
    },
    "kernelspec": {
      "name": "python3",
      "display_name": "Python 3"
    },
    "language_info": {
      "name": "python"
    }
  },
  "cells": [
    {
      "cell_type": "markdown",
      "metadata": {
        "id": "view-in-github",
        "colab_type": "text"
      },
      "source": [
        "<a href=\"https://colab.research.google.com/github/KerollinDiniz/Artigo-publicado-XI-Congresso-Brasileiro-de-Informatica-na-Educacao--CBIE-2022-/blob/main/Python_para_Dados_Numpy_1_1.ipynb\" target=\"_parent\"><img src=\"https://colab.research.google.com/assets/colab-badge.svg\" alt=\"Open In Colab\"/></a>"
      ]
    },
    {
      "cell_type": "code",
      "execution_count": 1,
      "metadata": {
        "id": "s-4cD4a2NazV"
      },
      "outputs": [],
      "source": [
        "import numpy as np"
      ]
    },
    {
      "cell_type": "markdown",
      "source": [
        "## Rascunho - Introdução ao Numpy"
      ],
      "metadata": {
        "id": "ImIu6U1tapvP"
      }
    },
    {
      "cell_type": "code",
      "source": [
        "l = [4, 8, 2, 12, 5, 8, 0]"
      ],
      "metadata": {
        "id": "Vqe9MVcRNeZR"
      },
      "execution_count": 2,
      "outputs": []
    },
    {
      "cell_type": "code",
      "source": [
        "arr = np.array(l)\n",
        "arr"
      ],
      "metadata": {
        "colab": {
          "base_uri": "https://localhost:8080/"
        },
        "id": "wAaR4l8iPeB9",
        "outputId": "293c17e0-6c18-4881-8794-fac0e083f503"
      },
      "execution_count": 3,
      "outputs": [
        {
          "output_type": "execute_result",
          "data": {
            "text/plain": [
              "array([ 4,  8,  2, 12,  5,  8,  0])"
            ]
          },
          "metadata": {},
          "execution_count": 3
        }
      ]
    },
    {
      "cell_type": "markdown",
      "source": [],
      "metadata": {
        "id": "VRiILYp9ZuF_"
      }
    },
    {
      "cell_type": "code",
      "source": [
        "type(arr)"
      ],
      "metadata": {
        "colab": {
          "base_uri": "https://localhost:8080/"
        },
        "id": "DRsgDeOvPj2M",
        "outputId": "fea8fa7c-df9e-4c61-9134-d377623958e0"
      },
      "execution_count": 4,
      "outputs": [
        {
          "output_type": "execute_result",
          "data": {
            "text/plain": [
              "numpy.ndarray"
            ]
          },
          "metadata": {},
          "execution_count": 4
        }
      ]
    },
    {
      "cell_type": "code",
      "source": [
        "l2 = [[1, 2, 3],\n",
        "      [4, 5, 6]]\n",
        "\n",
        "np.array(l2)"
      ],
      "metadata": {
        "colab": {
          "base_uri": "https://localhost:8080/"
        },
        "id": "J0QdGt9fPlKi",
        "outputId": "b3a301bf-f194-4fa5-a7e0-26acafe491eb"
      },
      "execution_count": 5,
      "outputs": [
        {
          "output_type": "execute_result",
          "data": {
            "text/plain": [
              "array([[1, 2, 3],\n",
              "       [4, 5, 6]])"
            ]
          },
          "metadata": {},
          "execution_count": 5
        }
      ]
    },
    {
      "cell_type": "code",
      "source": [],
      "metadata": {
        "id": "UXc41fNPUPHk"
      },
      "execution_count": 7,
      "outputs": []
    },
    {
      "cell_type": "code",
      "source": [],
      "metadata": {
        "id": "Zkq_q0cNP57z"
      },
      "execution_count": 7,
      "outputs": []
    },
    {
      "cell_type": "code",
      "source": [
        "np.zeros((5, 3))"
      ],
      "metadata": {
        "id": "o8Z1Z8idR7fj",
        "colab": {
          "base_uri": "https://localhost:8080/"
        },
        "outputId": "ac9addb2-184b-4290-af01-44d1c4a9c341"
      },
      "execution_count": 8,
      "outputs": [
        {
          "output_type": "execute_result",
          "data": {
            "text/plain": [
              "array([[0., 0., 0.],\n",
              "       [0., 0., 0.],\n",
              "       [0., 0., 0.],\n",
              "       [0., 0., 0.],\n",
              "       [0., 0., 0.]])"
            ]
          },
          "metadata": {},
          "execution_count": 8
        }
      ]
    },
    {
      "cell_type": "code",
      "source": [
        "np.random.random((2,3))"
      ],
      "metadata": {
        "id": "1OWHhsD_R9Wu",
        "colab": {
          "base_uri": "https://localhost:8080/"
        },
        "outputId": "32f15546-a3c8-4b3e-aee3-ac8e206c0571"
      },
      "execution_count": 9,
      "outputs": [
        {
          "output_type": "execute_result",
          "data": {
            "text/plain": [
              "array([[0.4878699 , 0.91436666, 0.78037582],\n",
              "       [0.01749317, 0.7576005 , 0.33240409]])"
            ]
          },
          "metadata": {},
          "execution_count": 9
        }
      ]
    },
    {
      "cell_type": "code",
      "source": [
        "np.random"
      ],
      "metadata": {
        "id": "vQdnroSJS8L-",
        "colab": {
          "base_uri": "https://localhost:8080/"
        },
        "outputId": "23c4d9bd-2861-4137-a3af-35d1e35c8595"
      },
      "execution_count": 10,
      "outputs": [
        {
          "output_type": "execute_result",
          "data": {
            "text/plain": [
              "<module 'numpy.random' from '/usr/local/lib/python3.10/dist-packages/numpy/random/__init__.py'>"
            ]
          },
          "metadata": {},
          "execution_count": 10
        }
      ]
    },
    {
      "cell_type": "code",
      "source": [
        "np.arange(-2, 5, 2)"
      ],
      "metadata": {
        "id": "tvSvwbt2WDoW",
        "colab": {
          "base_uri": "https://localhost:8080/"
        },
        "outputId": "f14bb449-dc7c-4587-f5bc-e130cba70c04"
      },
      "execution_count": 11,
      "outputs": [
        {
          "output_type": "execute_result",
          "data": {
            "text/plain": [
              "array([-2,  0,  2,  4])"
            ]
          },
          "metadata": {},
          "execution_count": 11
        }
      ]
    },
    {
      "cell_type": "code",
      "source": [
        "list(range(-2, 5, 2))"
      ],
      "metadata": {
        "id": "Q5ugFgTxWHuN",
        "colab": {
          "base_uri": "https://localhost:8080/"
        },
        "outputId": "b9135e07-e30c-45d7-f703-4127d878ee6f"
      },
      "execution_count": 12,
      "outputs": [
        {
          "output_type": "execute_result",
          "data": {
            "text/plain": [
              "[-2, 0, 2, 4]"
            ]
          },
          "metadata": {},
          "execution_count": 12
        }
      ]
    },
    {
      "cell_type": "code",
      "source": [
        "from matplotlib import pyplot as plt"
      ],
      "metadata": {
        "id": "sHo2Y7dGWKgG"
      },
      "execution_count": 13,
      "outputs": []
    },
    {
      "cell_type": "code",
      "source": [
        "plt.scatter(np.arange(0,12),\n",
        "            np.arange(-3,9))\n",
        "plt.show()"
      ],
      "metadata": {
        "id": "jGGAaAAyWeDr",
        "colab": {
          "base_uri": "https://localhost:8080/",
          "height": 430
        },
        "outputId": "6a05c07e-67b8-4739-9ea4-456cd4279468"
      },
      "execution_count": 14,
      "outputs": [
        {
          "output_type": "display_data",
          "data": {
            "text/plain": [
              "<Figure size 640x480 with 1 Axes>"
            ],
            "image/png": "[encoded data removed]"
          },
          "metadata": {}
        }
      ]
    },
    {
      "cell_type": "code",
      "source": [],
      "metadata": {
        "id": "xJ1LV8DNWmQN"
      },
      "execution_count": 14,
      "outputs": []
    },
    {
      "cell_type": "markdown",
      "source": [
        "## 1. Crie um array com 4 linhas e 3 colunas com valores aleatórios"
      ],
      "metadata": {
        "id": "8KGd6hxvXHbw"
      }
    },
    {
      "cell_type": "code",
      "source": [],
      "metadata": {
        "id": "amvVfwQI24JW"
      },
      "execution_count": 14,
      "outputs": []
    },
    {
      "cell_type": "markdown",
      "source": [
        "## 2. Crie um array com valores inteiros 3 linhas e 5 colunas com valores aleatórios"
      ],
      "metadata": {
        "id": "XjvUczhmXZi-"
      }
    },
    {
      "cell_type": "code",
      "source": [],
      "metadata": {
        "id": "y0pkI-C824nO"
      },
      "execution_count": 14,
      "outputs": []
    },
    {
      "cell_type": "markdown",
      "source": [
        "## 3. Crie um array com 5 colunas e 10 linhas inicializados com zeros."
      ],
      "metadata": {
        "id": "6nnXiIr2ZyLZ"
      }
    },
    {
      "cell_type": "code",
      "source": [],
      "metadata": {
        "id": "0tWf-9PK25DQ"
      },
      "execution_count": 14,
      "outputs": []
    },
    {
      "cell_type": "markdown",
      "source": [
        "## 4. Crie um array que vá entre 0 e 90 pulando de 4 em 4"
      ],
      "metadata": {
        "id": "mojhFJbIa3YL"
      }
    },
    {
      "cell_type": "code",
      "source": [],
      "metadata": {
        "id": "BcdjcvUC25qk"
      },
      "execution_count": 14,
      "outputs": []
    },
    {
      "cell_type": "markdown",
      "source": [
        "\n",
        "\n",
        "---\n",
        "## Rascunhos - Array com 3 dimensões\n"
      ],
      "metadata": {
        "id": "3P8kKI8fagz-"
      }
    },
    {
      "cell_type": "code",
      "source": [
        "arr1_2d = np.array([[1, 2], [3, 4]])\n",
        "arr2_2d = np.array([[5, 6], [7, 8]])\n",
        "arr3_2d = np.array([[9, 2], [3, 4]])\n",
        "\n",
        "arr_3d = np.array([arr1_2d, arr1_2d, arr3_2d])\n"
      ],
      "metadata": {
        "id": "HHOMuU8WYljG"
      },
      "execution_count": 15,
      "outputs": []
    },
    {
      "cell_type": "code",
      "source": [
        "arr_4d = np.random.random((2, 2, 3, 2))\n",
        "arr_4d"
      ],
      "metadata": {
        "id": "YzpkKUOebm5t"
      },
      "execution_count": null,
      "outputs": []
    },
    {
      "cell_type": "code",
      "source": [
        "np.array([arr_3d, arr_3d])"
      ],
      "metadata": {
        "id": "QA5bPlE5bnXu"
      },
      "execution_count": null,
      "outputs": []
    },
    {
      "cell_type": "code",
      "source": [
        "arr = np.zeros((2, 4))\n",
        "arr"
      ],
      "metadata": {
        "id": "iuUyqGhaj64h",
        "colab": {
          "base_uri": "https://localhost:8080/"
        },
        "outputId": "32250206-b237-4539-d058-6df4ba9494c6"
      },
      "execution_count": 16,
      "outputs": [
        {
          "output_type": "execute_result",
          "data": {
            "text/plain": [
              "array([[0., 0., 0., 0.],\n",
              "       [0., 0., 0., 0.]])"
            ]
          },
          "metadata": {},
          "execution_count": 16
        }
      ]
    },
    {
      "cell_type": "code",
      "source": [
        "arr.shape"
      ],
      "metadata": {
        "id": "PdQLoHSLj_tg"
      },
      "execution_count": null,
      "outputs": []
    },
    {
      "cell_type": "code",
      "source": [
        "arr = np.array([[3, 4], [8, 11], [9, 9]])\n",
        "arr.flatten()\n"
      ],
      "metadata": {
        "id": "6zrSz-caeh1Y",
        "colab": {
          "base_uri": "https://localhost:8080/"
        },
        "outputId": "d14af60a-1b0d-4ebb-c0e5-7ff475b7b45c"
      },
      "execution_count": 17,
      "outputs": [
        {
          "output_type": "execute_result",
          "data": {
            "text/plain": [
              "array([ 3,  4,  8, 11,  9,  9])"
            ]
          },
          "metadata": {},
          "execution_count": 17
        }
      ]
    },
    {
      "cell_type": "code",
      "source": [
        "arr = np.array([[3, 4, 2], [8, 11, 5]])\n",
        "arr.reshape((3, 2))\n"
      ],
      "metadata": {
        "id": "4Am1WW6xkKSJ",
        "colab": {
          "base_uri": "https://localhost:8080/"
        },
        "outputId": "98c62b21-8d30-4ec2-840e-5cd82d8e6ad7"
      },
      "execution_count": 18,
      "outputs": [
        {
          "output_type": "execute_result",
          "data": {
            "text/plain": [
              "array([[ 3,  4],\n",
              "       [ 2,  8],\n",
              "       [11,  5]])"
            ]
          },
          "metadata": {},
          "execution_count": 18
        }
      ]
    },
    {
      "cell_type": "code",
      "source": [
        "arr.reshape((3, 3))"
      ],
      "metadata": {
        "id": "Ohfi34OZkNyk"
      },
      "execution_count": null,
      "outputs": []
    },
    {
      "cell_type": "markdown",
      "source": [
        "## 1. Reduza o array (5,7) a apenas uma dimensão"
      ],
      "metadata": {
        "id": "3c2qHtxhsN77"
      }
    },
    {
      "cell_type": "code",
      "source": [],
      "metadata": {
        "id": "05mvXbPciElu"
      },
      "execution_count": 18,
      "outputs": []
    },
    {
      "cell_type": "markdown",
      "source": [
        "## 2. Considerando que você é uma organizadora de um jogo de bingo. Crie um array que irá representar a cartilha desses jogos de bingo. os números da suas cartelas variam entre 1 e 30, e você terá 10 participantes. Cada cartela terá 12 números (4, 3).\n",
        "## Crie um array que represente esse jogo"
      ],
      "metadata": {
        "id": "6mh-aOcQqy0S"
      }
    },
    {
      "cell_type": "code",
      "source": [],
      "metadata": {
        "id": "2LWkIt6I2OGo"
      },
      "execution_count": 18,
      "outputs": []
    },
    {
      "cell_type": "markdown",
      "source": [
        "## 3. Faça o reshape das suas cartelas para que haja 5 cartelas de 4 linhas e 6 colunas"
      ],
      "metadata": {
        "id": "vopTx8gjtiMn"
      }
    },
    {
      "cell_type": "code",
      "source": [],
      "metadata": {
        "id": "LVHYKk0ys5JA"
      },
      "execution_count": 18,
      "outputs": []
    },
    {
      "cell_type": "markdown",
      "source": [
        "# Tipo de dados em um numpy array\n"
      ],
      "metadata": {
        "id": "8f6qpfC3_2mk"
      }
    },
    {
      "cell_type": "code",
      "source": [
        "np.array([2.14, 6.25, 160.87, 8.4]).dtype"
      ],
      "metadata": {
        "id": "Zw9N5oXN_7WV",
        "colab": {
          "base_uri": "https://localhost:8080/"
        },
        "outputId": "fa0cc5f4-b2c1-4856-d5ee-fac7d52d78f5"
      },
      "execution_count": 19,
      "outputs": [
        {
          "output_type": "execute_result",
          "data": {
            "text/plain": [
              "dtype('float64')"
            ]
          },
          "metadata": {},
          "execution_count": 19
        }
      ]
    },
    {
      "cell_type": "code",
      "source": [
        "np.array([2, 6, 160, 8]).dtype"
      ],
      "metadata": {
        "id": "xKPsZ4pAACOz",
        "colab": {
          "base_uri": "https://localhost:8080/"
        },
        "outputId": "ea8f0990-d1d8-416b-d2f7-138062b8e480"
      },
      "execution_count": 20,
      "outputs": [
        {
          "output_type": "execute_result",
          "data": {
            "text/plain": [
              "dtype('int64')"
            ]
          },
          "metadata": {},
          "execution_count": 20
        }
      ]
    },
    {
      "cell_type": "code",
      "source": [
        "np.array([\"Hello\", \"Coder\", \"Girls\"]).dtype"
      ],
      "metadata": {
        "id": "--fFIEgvAtKF",
        "colab": {
          "base_uri": "https://localhost:8080/"
        },
        "outputId": "888ae163-8b50-4111-d41c-e2934b05dfad"
      },
      "execution_count": 21,
      "outputs": [
        {
          "output_type": "execute_result",
          "data": {
            "text/plain": [
              "dtype('<U5')"
            ]
          },
          "metadata": {},
          "execution_count": 21
        }
      ]
    },
    {
      "cell_type": "code",
      "source": [
        "arr_flaot32 = np.array([2.14, 6.25, 160.87], dtype=np.float32)\n",
        "arr_flaot32"
      ],
      "metadata": {
        "id": "lgYPwwpFA2AR",
        "colab": {
          "base_uri": "https://localhost:8080/"
        },
        "outputId": "206ea2ac-f350-4414-dece-9c97e628067f"
      },
      "execution_count": 22,
      "outputs": [
        {
          "output_type": "execute_result",
          "data": {
            "text/plain": [
              "array([  2.14,   6.25, 160.87], dtype=float32)"
            ]
          },
          "metadata": {},
          "execution_count": 22
        }
      ]
    },
    {
      "cell_type": "code",
      "source": [
        "arr_vf = np.array([[True, False], [True, True]], dtype=np.bool8)\n",
        "arr_vf.astype(np.int32)"
      ],
      "metadata": {
        "id": "XpBTC041BtpR",
        "colab": {
          "base_uri": "https://localhost:8080/"
        },
        "outputId": "96ae6e0d-38bb-48bf-f82e-37b73d0dd022"
      },
      "execution_count": 28,
      "outputs": [
        {
          "output_type": "stream",
          "name": "stderr",
          "text": [
            "<ipython-input-28-a1615ceddfc6>:1: DeprecationWarning: `np.bool8` is a deprecated alias for `np.bool_`.  (Deprecated NumPy 1.24)\n",
            "  arr_vf = np.array([[True, False], [True, True]], dtype=np.bool8)\n"
          ]
        },
        {
          "output_type": "execute_result",
          "data": {
            "text/plain": [
              "array([[1, 0],\n",
              "       [1, 1]], dtype=int32)"
            ]
          },
          "metadata": {},
          "execution_count": 28
        }
      ]
    },
    {
      "cell_type": "code",
      "source": [
        "np.array([\"pedra\", False , 42, 42.42])"
      ],
      "metadata": {
        "id": "6tE5yQ60CbsL",
        "colab": {
          "base_uri": "https://localhost:8080/"
        },
        "outputId": "8ccf49d5-db74-44d0-8fd1-eef4baf5e25e"
      },
      "execution_count": 27,
      "outputs": [
        {
          "output_type": "execute_result",
          "data": {
            "text/plain": [
              "array(['pedra', 'False', '42', '42.42'], dtype='<U32')"
            ]
          },
          "metadata": {},
          "execution_count": 27
        }
      ]
    },
    {
      "cell_type": "code",
      "source": [
        "np.array([0, 10]).dtype"
      ],
      "metadata": {
        "id": "K2Rq5Mb2DbPq",
        "colab": {
          "base_uri": "https://localhost:8080/"
        },
        "outputId": "3e441e39-1b6a-48c8-bd78-e0397d5cca87"
      },
      "execution_count": 26,
      "outputs": [
        {
          "output_type": "execute_result",
          "data": {
            "text/plain": [
              "dtype('int64')"
            ]
          },
          "metadata": {},
          "execution_count": 26
        }
      ]
    },
    {
      "cell_type": "code",
      "source": [
        "np.array([0, 10, 1.]).dtype"
      ],
      "metadata": {
        "id": "q_gjB8HGDbTE",
        "colab": {
          "base_uri": "https://localhost:8080/"
        },
        "outputId": "da3824c7-401f-48ce-d810-380c036cb219"
      },
      "execution_count": 25,
      "outputs": [
        {
          "output_type": "execute_result",
          "data": {
            "text/plain": [
              "dtype('float64')"
            ]
          },
          "metadata": {},
          "execution_count": 25
        }
      ]
    },
    {
      "cell_type": "code",
      "source": [
        "np.array([True, False]).dtype"
      ],
      "metadata": {
        "id": "hAKlEJtjDUH7",
        "colab": {
          "base_uri": "https://localhost:8080/"
        },
        "outputId": "0a79a1e0-017d-4963-aaf6-29dd009e945a"
      },
      "execution_count": 24,
      "outputs": [
        {
          "output_type": "execute_result",
          "data": {
            "text/plain": [
              "dtype('bool')"
            ]
          },
          "metadata": {},
          "execution_count": 24
        }
      ]
    },
    {
      "cell_type": "code",
      "source": [
        "np.array([True, False, 12]).dtype"
      ],
      "metadata": {
        "id": "kR-8fpMjCi8f",
        "colab": {
          "base_uri": "https://localhost:8080/"
        },
        "outputId": "6bcba59f-0321-48e3-8904-d88e25a1d5a2"
      },
      "execution_count": 23,
      "outputs": [
        {
          "output_type": "execute_result",
          "data": {
            "text/plain": [
              "dtype('int64')"
            ]
          },
          "metadata": {},
          "execution_count": 23
        }
      ]
    }
  ]
}